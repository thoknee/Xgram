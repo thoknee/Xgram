{
 "cells": [
  {
   "cell_type": "code",
   "execution_count": 4,
   "id": "c271b7b6",
   "metadata": {},
   "outputs": [],
   "source": [
    "import torch\n",
    "import matplotlib.pyplot as plt\n",
    "%matplotlib inline\n",
    "import torch.nn.functional as F\n",
    "train = open('Training.txt','r').read().splitlines()\n",
    "test = open('test.txt').read().splitlines()\n",
    "words = test"
   ]
  },
  {
   "cell_type": "code",
   "execution_count": 5,
   "id": "f59a6cb9",
   "metadata": {},
   "outputs": [],
   "source": [
    "chars = sorted(list(set(''.join(words))))\n",
    "stoi = {s:i+1 for i,s in enumerate(chars)}\n",
    "stoi['.'] = 0\n",
    "itos = {i:s for s,i in stoi.items()}"
   ]
  },
  {
   "cell_type": "code",
   "execution_count": 3,
   "id": "fff5f4bd",
   "metadata": {},
   "outputs": [
    {
     "data": {
      "text/plain": [
       "{1: 'a',\n",
       " 2: 'b',\n",
       " 3: 'c',\n",
       " 4: 'd',\n",
       " 5: 'e',\n",
       " 6: 'f',\n",
       " 7: 'g',\n",
       " 8: 'h',\n",
       " 9: 'i',\n",
       " 10: 'j',\n",
       " 11: 'k',\n",
       " 12: 'l',\n",
       " 13: 'm',\n",
       " 14: 'n',\n",
       " 15: 'o',\n",
       " 16: 'p',\n",
       " 17: 'q',\n",
       " 18: 'r',\n",
       " 19: 's',\n",
       " 20: 't',\n",
       " 21: 'u',\n",
       " 22: 'v',\n",
       " 23: 'w',\n",
       " 24: 'x',\n",
       " 25: 'y',\n",
       " 26: 'z',\n",
       " 0: '.'}"
      ]
     },
     "execution_count": 3,
     "metadata": {},
     "output_type": "execute_result"
    }
   ],
   "source": [
    "chars = sorted(list(set(''.join(words))))\n",
    "stoi = {s:i+1 for i,s in enumerate(chars)}\n",
    "stoi['.'] = 0\n",
    "itos = {i:s for s,i in stoi.items()}\n",
    "itos"
   ]
  },
  {
   "cell_type": "code",
   "execution_count": 6,
   "id": "eee03502",
   "metadata": {},
   "outputs": [],
   "source": [
    "dualchar = []\n",
    "\n",
    "for c1 in stoi:\n",
    "    for c2 in stoi:\n",
    "        dualchar.append(c1 + c2)\n",
    "\n",
    "len(dualchar)\n",
    "\n",
    "T = torch.zeros(729,27)\n",
    "        \n",
    "dualstoi = {s:i+1 for i,s in enumerate(dualchar)}\n",
    "stoi['.'] = 0\n",
    "dualitos = {i:s for s,i in stoi.items()}"
   ]
  },
  {
   "cell_type": "code",
   "execution_count": 7,
   "id": "5256faff",
   "metadata": {},
   "outputs": [],
   "source": [
    "for w in words:\n",
    "    chs = ['.'] + list(w) + ['.']\n",
    "    for ch1, ch2,ch3 in zip(chs,chs[1:],chs[2:]):\n",
    "        double = ch1 + ch2\n",
    "        ix1 = dualstoi[double]\n",
    "        ix2 = stoi[ch3]\n",
    "    \n",
    "        T[ix1,ix2] += 1"
   ]
  },
  {
   "cell_type": "code",
   "execution_count": null,
   "id": "03f367de",
   "metadata": {},
   "outputs": [],
   "source": [
    "plt.figure(figsize = (128,128))\n",
    "plt.imshow(T,cmap = 'Blues')\n"
   ]
  },
  {
   "cell_type": "code",
   "execution_count": 9,
   "id": "8172e151",
   "metadata": {},
   "outputs": [
    {
     "data": {
      "text/plain": [
       "tensor([[0.0370, 0.0370, 0.0370,  ..., 0.0370, 0.0370, 0.0370],\n",
       "        [0.0270, 0.0270, 0.0270,  ..., 0.0270, 0.0270, 0.0270],\n",
       "        [0.0123, 0.0614, 0.0516,  ..., 0.0025, 0.0147, 0.0025],\n",
       "        ...,\n",
       "        [0.0263, 0.0263, 0.0263,  ..., 0.0263, 0.0526, 0.0263],\n",
       "        [0.0185, 0.2037, 0.0185,  ..., 0.0185, 0.0185, 0.0185],\n",
       "        [0.0132, 0.1447, 0.0132,  ..., 0.0132, 0.1053, 0.0132]])"
      ]
     },
     "execution_count": 9,
     "metadata": {},
     "output_type": "execute_result"
    }
   ],
   "source": [
    "## Model smoothing\n",
    "P = (T+1).float()\n",
    "P /= P.sum(1, keepdim=True)\n",
    "P"
   ]
  },
  {
   "cell_type": "code",
   "execution_count": 39,
   "id": "385c3cdd",
   "metadata": {},
   "outputs": [
    {
     "name": "stdout",
     "output_type": "stream",
     "text": [
      "e.\n",
      "le.\n",
      "holeaurdid.\n",
      "blwizjwxeolalaqphavinimph.\n",
      "kpaml.\n",
      "lint.\n",
      "uewassputeoe.\n",
      "qyo.\n",
      "aaoasiropoyggnstilllagerdfliyaftilifftudgutr.\n",
      "azoposymftude.\n",
      "olpe.\n",
      "hark.\n",
      ".\n",
      "xidscarcelgaqffimirdo.\n",
      "ke.\n",
      "aj.\n",
      "koterte.\n",
      "qbbe.\n",
      "biqw.\n",
      "gpurtihyfze.\n",
      "euiddo.\n",
      "gge.\n",
      "soaixp.\n",
      "xrntcestardheme.\n",
      "intindyzogll.\n",
      "inussimibllidh.\n",
      "vay.\n",
      "qge.\n",
      "xke.\n",
      "vsiooxititke.\n",
      "kercteych.\n",
      "ctin.\n",
      "yffnastiylilin.\n",
      "i.\n",
      "yagitute.\n",
      "wkir.\n",
      "villastmakuter.\n",
      ".\n",
      "citeve.\n",
      "fzo.\n",
      "owkgin.\n",
      "sthlisiddirinemi.\n",
      "joggrem.\n",
      "ffl.\n",
      "ehotil.\n",
      "xlle.\n",
      "uryuxite.\n",
      ".\n",
      "w.\n",
      "gagnibahkikrbh.\n"
     ]
    }
   ],
   "source": [
    "i = 0\n",
    "\n",
    "\n",
    "for x in range(50):\n",
    "    out = []\n",
    "    while True:\n",
    "        p = P[i]\n",
    "        i = torch.multinomial(p,num_samples = 1, replacement=True).item()\n",
    "        out.append(itos[i])\n",
    "        if i==0: \n",
    "            break\n",
    "    print(''.join(out))"
   ]
  },
  {
   "cell_type": "code",
   "execution_count": 13,
   "id": "54070c79",
   "metadata": {},
   "outputs": [
    {
     "name": "stdout",
     "output_type": "stream",
     "text": [
      "tensor(2.2377)\n"
     ]
    }
   ],
   "source": [
    "log_likelyhood = 0.0\n",
    "n = 0\n",
    "\n",
    "for w in train:\n",
    "    chs = ['.'] + list(w) + ['.']\n",
    "    for ch1, ch2,ch3 in zip(chs,chs[1:],chs[2:]):\n",
    "        double = ch1 + ch2\n",
    "        ix1 = dualstoi[double]\n",
    "        ix2 = stoi[ch3]\n",
    "    \n",
    "        prob = P[ix1,ix2]\n",
    "        log_likelyhood += torch.log(prob)\n",
    "        logprob = torch.log(prob)\n",
    "        n+= 1\n",
    "#         print(f'{ch1}{ch2}: {prob:4f}: {logprob:4f}')\n",
    "\n",
    "        \n",
    "# print(log_likelyhood)\n",
    "nll = -log_likelyhood\n",
    "normnll = nll/n\n",
    "\n",
    "print(normnll)"
   ]
  },
  {
   "cell_type": "code",
   "execution_count": 29,
   "id": "e3c752bc",
   "metadata": {},
   "outputs": [],
   "source": [
    "xs, ys = [], []\n",
    "\n",
    "\n",
    "\n",
    "for w in train:\n",
    "    chs = ['.'] + list(w) + ['.']\n",
    "    for ch1, ch2,ch3 in zip(chs,chs[1:],chs[2:]):\n",
    "        double = ch1 + ch2\n",
    "        ix1 = dualstoi[double]\n",
    "        ix2 = stoi[ch3]\n",
    "        \n",
    "        xs.append(ix1)\n",
    "        ys.append(ix2)\n",
    "        \n",
    "xs = torch.tensor(xs)\n",
    "ys = torch.tensor(ys)\n",
    "num = xs.nelement()\n",
    "\n",
    "\n",
    "W = torch.rand((729,27),requires_grad=True)"
   ]
  },
  {
   "cell_type": "code",
   "execution_count": 36,
   "id": "f3d5dc60",
   "metadata": {},
   "outputs": [
    {
     "name": "stdout",
     "output_type": "stream",
     "text": [
      "Iteration 0: 2.5145952701568604\n",
      "Iteration 10: 2.4939260482788086\n",
      "Iteration 20: 2.475533962249756\n",
      "Iteration 30: 2.4591174125671387\n",
      "Iteration 40: 2.444380044937134\n",
      "Iteration 50: 2.4310340881347656\n",
      "Iteration 60: 2.418883800506592\n",
      "Iteration 70: 2.407808303833008\n",
      "Iteration 80: 2.397698163986206\n",
      "Iteration 90: 2.3884317874908447\n"
     ]
    }
   ],
   "source": [
    "# 100 iterations of a bigram training.\n",
    "\n",
    "for i in range(100):\n",
    "    xenc = F.one_hot(xs, num_classes = 27**2).float()\n",
    "    logits = (xenc @ W).exp()\n",
    "    counts = logits.exp()\n",
    "    probs= counts/counts.sum(1, keepdims=True)\n",
    "    loss = -probs[torch.arange(num), ys].log().mean()\n",
    "    \n",
    "    if i% 10 == 0:\n",
    "        print(f'Iteration {i}: {loss.item()}')\n",
    "    # backward pass\n",
    "    W.grad = None\n",
    "\n",
    "    loss.backward()\n",
    "\n",
    "    #ADjustment\n",
    "    W.data += -10 * W.grad"
   ]
  },
  {
   "cell_type": "code",
   "execution_count": 38,
   "id": "86280637",
   "metadata": {},
   "outputs": [
    {
     "name": "stdout",
     "output_type": "stream",
     "text": [
      "hd.\n",
      "qeksjqbidatiqfmccumihnimpvgsgzticwjfhohwhmwg.\n",
      "kraascpozvdgmzqkcshymloyccuuhenyjgidkbopirchganoljn.\n",
      "qimnfeoxxdaftefnsblbpaszhdarusvoif.\n",
      "cyypi.\n",
      "movjmphaofibllrdkdqpq.\n",
      "epeyidfwntkkeqngzn.\n",
      "hmndlfyntoalvxtbfivo.\n",
      "zvjjuyncclsiadgdaaozhsslkbuxvbgmpoauchote.\n",
      "wgkhdtaksgjgulshucb.\n",
      "srkehhytkdgage.\n",
      "dybiapm.\n",
      "spixaaigsytrrbibbrmjake.\n",
      "zomfndjhokohizepekdirvvjmomllgpotkiwgllge.\n",
      "vlkwnmcjtoyfkzlvlppcfshmcwnigfleiwpfztn.\n",
      "virmemawridsnplnqggmgbqmekumvfqtfcshmgyudqa.\n",
      "sxajzkjls.\n",
      "qybblqeunigkayxlxkl.\n",
      "xb.\n",
      "tecaotkedtskbatx.\n",
      "ywxdlgdiqkawn.\n",
      "ngmimalh.\n",
      "hwblmowps.\n",
      "unkhqesblo.\n",
      "e.\n",
      "qjmpjafze.\n",
      "yplqmslfqphqfml.\n",
      "vymrdledtexbaeixvcesiycyjcinswkrdiziokschzezvmb.\n",
      "oawhwztmeiaqffydjckuaiqbm.\n",
      "jobifeubwxoawgdevasiiiyfjfmyllmvogyelmwvetothshmaffblte.\n",
      "rwscr.\n",
      "dejcciyahdsnn.\n",
      "wzve.\n",
      "apirseinn.\n",
      "paejstqvxkedur.\n",
      "wqrwbggtavszgjwmmuj.\n",
      "dejhhxbbl.\n",
      "djbxrvemavet.\n",
      ".\n",
      "comhpfs.\n",
      "dqillipijoffhraukafkyfutbziwhiigxicfatlqyuibwsjxoeevgwygoxugpwtllqvln.\n",
      "hfqtchvevijufdimkuzurchuffhodwtivuaytcokbieveyuwncesdm.\n",
      "ntwawjlzjsisuk.\n",
      "phhbgbuxcaqngirfkudmase.\n",
      "drzrrlgftlmf.\n",
      "noote.\n",
      "vyebz.\n",
      "ypqiningakirtuliph.\n",
      "ynehqyiistidgwziddqjhggiesmetetumhqbbkiexuqqtorlj.\n",
      "rlljdggb.\n"
     ]
    }
   ],
   "source": [
    "# Generates words across trained probabilities\n",
    "\n",
    "\n",
    "for x in range(50):\n",
    "    out = []\n",
    "    i = 0\n",
    "    while True:\n",
    "\n",
    "        \n",
    "        xenc = F.one_hot(torch.tensor([i]), num_classes=27**2).float()\n",
    "        logits = xenc @ W \n",
    "        counts = logits.exp()\n",
    "        p = counts / counts.sum(1, keepdim =True)\n",
    "        \n",
    "        i = torch.multinomial(p,num_samples = 1, replacement=True).item()\n",
    "        out.append(itos[i])\n",
    "        if i==0: \n",
    "            break\n",
    "    print(''.join(out))"
   ]
  },
  {
   "cell_type": "code",
   "execution_count": null,
   "id": "609af019",
   "metadata": {},
   "outputs": [],
   "source": []
  }
 ],
 "metadata": {
  "kernelspec": {
   "display_name": "Python 3 (ipykernel)",
   "language": "python",
   "name": "python3"
  },
  "language_info": {
   "codemirror_mode": {
    "name": "ipython",
    "version": 3
   },
   "file_extension": ".py",
   "mimetype": "text/x-python",
   "name": "python",
   "nbconvert_exporter": "python",
   "pygments_lexer": "ipython3",
   "version": "3.9.13"
  }
 },
 "nbformat": 4,
 "nbformat_minor": 5
}
